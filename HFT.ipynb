{
 "metadata": {
  "language_info": {
   "codemirror_mode": {
    "name": "ipython",
    "version": 3
   },
   "file_extension": ".py",
   "mimetype": "text/x-python",
   "name": "python",
   "nbconvert_exporter": "python",
   "pygments_lexer": "ipython3",
   "version": "3.9.1-final"
  },
  "orig_nbformat": 2,
  "kernelspec": {
   "name": "python3",
   "display_name": "Python 3.9.1 64-bit",
   "metadata": {
    "interpreter": {
     "hash": "58cabfe2a5b756edaeb264505974c88e9af093146fb376a85e30ec51f3d1ad3e"
    }
   }
  }
 },
 "nbformat": 4,
 "nbformat_minor": 2,
 "cells": [
  {
   "source": [
    "# Who are the high-frequency traders ?"
   ],
   "cell_type": "markdown",
   "metadata": {}
  },
  {
   "source": [
    "## Process the data"
   ],
   "cell_type": "markdown",
   "metadata": {}
  },
  {
   "cell_type": "code",
   "execution_count": 1,
   "metadata": {},
   "outputs": [],
   "source": [
    "import pandas as pd\n",
    "\n",
    "x_train = pd.read_csv(\"data/AMF_train_X_XCZw8r3.csv\", index_col=0, sep=',')\n",
    "y_train = pd.read_csv(\"data/AMF_train_Y_omYQJZL.csv\", index_col=0, sep=',')"
   ]
  },
  {
   "cell_type": "code",
   "execution_count": 4,
   "metadata": {},
   "outputs": [
    {
     "output_type": "execute_result",
     "data": {
      "text/plain": [
       "         Share      Day     Trader       OTR        OCR         OMR  \\\n",
       "Index                                                                 \n",
       "1       Isin_8  Date_24  Trader_10  2.272727   8.333333   12.500000   \n",
       "2      Isin_87  Date_29  Trader_10  1.696629  25.166667   21.571429   \n",
       "3      Isin_87  Date_23  Trader_10  1.482759  47.300000  118.250000   \n",
       "4      Isin_12  Date_11  Trader_10  1.705882  14.500000   29.000000   \n",
       "5      Isin_87   Date_9  Trader_10  1.517730  26.750000         NaN   \n",
       "\n",
       "       min_time_two_events  mean_time_two_events  10_p_time_two_events  \\\n",
       "Index                                                                    \n",
       "1                      0.0           5117.830300              0.000000   \n",
       "2                      0.0           1846.968401              0.000074   \n",
       "3                      0.0            686.300630              0.000071   \n",
       "4                      0.0           2174.335265              0.000000   \n",
       "5                      0.0            944.008551              0.000071   \n",
       "\n",
       "       med_time_two_events  ...  min_dt_TV1_TV2  mean_dt_TV1_TV2  \\\n",
       "Index                       ...                                    \n",
       "1               419.688500  ...             NaN              NaN   \n",
       "2                 0.003374  ...             NaN              NaN   \n",
       "3                 0.000599  ...             NaN              NaN   \n",
       "4                 6.152666  ...             NaN              NaN   \n",
       "5                 0.001364  ...             NaN              NaN   \n",
       "\n",
       "       med_dt_TV1_TV2  min_dt_TV1_TV3  mean_dt_TV1_TV3  med_dt_TV1_TV3  \\\n",
       "Index                                                                    \n",
       "1                 NaN             NaN              NaN             NaN   \n",
       "2                 NaN             NaN              NaN             NaN   \n",
       "3                 NaN             NaN              NaN             NaN   \n",
       "4                 NaN             NaN              NaN             NaN   \n",
       "5                 NaN             NaN              NaN             NaN   \n",
       "\n",
       "       min_dt_TV1_TV4  mean_dt_TV1_TV4  med_dt_TV1_TV4  \\\n",
       "Index                                                    \n",
       "1                 NaN              NaN             NaN   \n",
       "2                 NaN              NaN             NaN   \n",
       "3                 NaN              NaN             NaN   \n",
       "4                 NaN              NaN             NaN   \n",
       "5                 NaN              NaN             NaN   \n",
       "\n",
       "       NbSecondWithAtLeatOneTrade  \n",
       "Index                              \n",
       "1                               4  \n",
       "2                              15  \n",
       "3                              63  \n",
       "4                               4  \n",
       "5                              38  \n",
       "\n",
       "[5 rows x 38 columns]"
      ],
      "text/html": "<div>\n<style scoped>\n    .dataframe tbody tr th:only-of-type {\n        vertical-align: middle;\n    }\n\n    .dataframe tbody tr th {\n        vertical-align: top;\n    }\n\n    .dataframe thead th {\n        text-align: right;\n    }\n</style>\n<table border=\"1\" class=\"dataframe\">\n  <thead>\n    <tr style=\"text-align: right;\">\n      <th></th>\n      <th>Share</th>\n      <th>Day</th>\n      <th>Trader</th>\n      <th>OTR</th>\n      <th>OCR</th>\n      <th>OMR</th>\n      <th>min_time_two_events</th>\n      <th>mean_time_two_events</th>\n      <th>10_p_time_two_events</th>\n      <th>med_time_two_events</th>\n      <th>...</th>\n      <th>min_dt_TV1_TV2</th>\n      <th>mean_dt_TV1_TV2</th>\n      <th>med_dt_TV1_TV2</th>\n      <th>min_dt_TV1_TV3</th>\n      <th>mean_dt_TV1_TV3</th>\n      <th>med_dt_TV1_TV3</th>\n      <th>min_dt_TV1_TV4</th>\n      <th>mean_dt_TV1_TV4</th>\n      <th>med_dt_TV1_TV4</th>\n      <th>NbSecondWithAtLeatOneTrade</th>\n    </tr>\n    <tr>\n      <th>Index</th>\n      <th></th>\n      <th></th>\n      <th></th>\n      <th></th>\n      <th></th>\n      <th></th>\n      <th></th>\n      <th></th>\n      <th></th>\n      <th></th>\n      <th></th>\n      <th></th>\n      <th></th>\n      <th></th>\n      <th></th>\n      <th></th>\n      <th></th>\n      <th></th>\n      <th></th>\n      <th></th>\n      <th></th>\n    </tr>\n  </thead>\n  <tbody>\n    <tr>\n      <th>1</th>\n      <td>Isin_8</td>\n      <td>Date_24</td>\n      <td>Trader_10</td>\n      <td>2.272727</td>\n      <td>8.333333</td>\n      <td>12.500000</td>\n      <td>0.0</td>\n      <td>5117.830300</td>\n      <td>0.000000</td>\n      <td>419.688500</td>\n      <td>...</td>\n      <td>NaN</td>\n      <td>NaN</td>\n      <td>NaN</td>\n      <td>NaN</td>\n      <td>NaN</td>\n      <td>NaN</td>\n      <td>NaN</td>\n      <td>NaN</td>\n      <td>NaN</td>\n      <td>4</td>\n    </tr>\n    <tr>\n      <th>2</th>\n      <td>Isin_87</td>\n      <td>Date_29</td>\n      <td>Trader_10</td>\n      <td>1.696629</td>\n      <td>25.166667</td>\n      <td>21.571429</td>\n      <td>0.0</td>\n      <td>1846.968401</td>\n      <td>0.000074</td>\n      <td>0.003374</td>\n      <td>...</td>\n      <td>NaN</td>\n      <td>NaN</td>\n      <td>NaN</td>\n      <td>NaN</td>\n      <td>NaN</td>\n      <td>NaN</td>\n      <td>NaN</td>\n      <td>NaN</td>\n      <td>NaN</td>\n      <td>15</td>\n    </tr>\n    <tr>\n      <th>3</th>\n      <td>Isin_87</td>\n      <td>Date_23</td>\n      <td>Trader_10</td>\n      <td>1.482759</td>\n      <td>47.300000</td>\n      <td>118.250000</td>\n      <td>0.0</td>\n      <td>686.300630</td>\n      <td>0.000071</td>\n      <td>0.000599</td>\n      <td>...</td>\n      <td>NaN</td>\n      <td>NaN</td>\n      <td>NaN</td>\n      <td>NaN</td>\n      <td>NaN</td>\n      <td>NaN</td>\n      <td>NaN</td>\n      <td>NaN</td>\n      <td>NaN</td>\n      <td>63</td>\n    </tr>\n    <tr>\n      <th>4</th>\n      <td>Isin_12</td>\n      <td>Date_11</td>\n      <td>Trader_10</td>\n      <td>1.705882</td>\n      <td>14.500000</td>\n      <td>29.000000</td>\n      <td>0.0</td>\n      <td>2174.335265</td>\n      <td>0.000000</td>\n      <td>6.152666</td>\n      <td>...</td>\n      <td>NaN</td>\n      <td>NaN</td>\n      <td>NaN</td>\n      <td>NaN</td>\n      <td>NaN</td>\n      <td>NaN</td>\n      <td>NaN</td>\n      <td>NaN</td>\n      <td>NaN</td>\n      <td>4</td>\n    </tr>\n    <tr>\n      <th>5</th>\n      <td>Isin_87</td>\n      <td>Date_9</td>\n      <td>Trader_10</td>\n      <td>1.517730</td>\n      <td>26.750000</td>\n      <td>NaN</td>\n      <td>0.0</td>\n      <td>944.008551</td>\n      <td>0.000071</td>\n      <td>0.001364</td>\n      <td>...</td>\n      <td>NaN</td>\n      <td>NaN</td>\n      <td>NaN</td>\n      <td>NaN</td>\n      <td>NaN</td>\n      <td>NaN</td>\n      <td>NaN</td>\n      <td>NaN</td>\n      <td>NaN</td>\n      <td>38</td>\n    </tr>\n  </tbody>\n</table>\n<p>5 rows × 38 columns</p>\n</div>"
     },
     "metadata": {},
     "execution_count": 4
    }
   ],
   "source": [
    "x_train.head()"
   ]
  },
  {
   "cell_type": "code",
   "execution_count": 5,
   "metadata": {},
   "outputs": [
    {
     "output_type": "execute_result",
     "data": {
      "text/plain": [
       "               type\n",
       "Trader             \n",
       "Trader_285      MIX\n",
       "Trader_114  NON HFT\n",
       "Trader_110  NON HFT\n",
       "Trader_57   NON HFT\n",
       "Trader_128  NON HFT"
      ],
      "text/html": "<div>\n<style scoped>\n    .dataframe tbody tr th:only-of-type {\n        vertical-align: middle;\n    }\n\n    .dataframe tbody tr th {\n        vertical-align: top;\n    }\n\n    .dataframe thead th {\n        text-align: right;\n    }\n</style>\n<table border=\"1\" class=\"dataframe\">\n  <thead>\n    <tr style=\"text-align: right;\">\n      <th></th>\n      <th>type</th>\n    </tr>\n    <tr>\n      <th>Trader</th>\n      <th></th>\n    </tr>\n  </thead>\n  <tbody>\n    <tr>\n      <th>Trader_285</th>\n      <td>MIX</td>\n    </tr>\n    <tr>\n      <th>Trader_114</th>\n      <td>NON HFT</td>\n    </tr>\n    <tr>\n      <th>Trader_110</th>\n      <td>NON HFT</td>\n    </tr>\n    <tr>\n      <th>Trader_57</th>\n      <td>NON HFT</td>\n    </tr>\n    <tr>\n      <th>Trader_128</th>\n      <td>NON HFT</td>\n    </tr>\n  </tbody>\n</table>\n</div>"
     },
     "metadata": {},
     "execution_count": 5
    }
   ],
   "source": [
    "y_train.head()"
   ]
  },
  {
   "cell_type": "code",
   "execution_count": null,
   "metadata": {},
   "outputs": [],
   "source": []
  }
 ]
}