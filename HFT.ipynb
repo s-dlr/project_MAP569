{
 "metadata": {
  "language_info": {
   "codemirror_mode": {
    "name": "ipython",
    "version": 3
   },
   "file_extension": ".py",
   "mimetype": "text/x-python",
   "name": "python",
   "nbconvert_exporter": "python",
   "pygments_lexer": "ipython3",
   "version": "3.9.1-final"
  },
  "orig_nbformat": 2,
  "kernelspec": {
   "name": "python3",
   "display_name": "Python 3.9.1 64-bit",
   "metadata": {
    "interpreter": {
     "hash": "58cabfe2a5b756edaeb264505974c88e9af093146fb376a85e30ec51f3d1ad3e"
    }
   }
  }
 },
 "nbformat": 4,
 "nbformat_minor": 2,
 "cells": [
  {
   "source": [
    "# Who are the high-frequency traders ?"
   ],
   "cell_type": "markdown",
   "metadata": {}
  },
  {
   "source": [
    "## Process the data"
   ],
   "cell_type": "markdown",
   "metadata": {}
  },
  {
   "cell_type": "code",
   "execution_count": 3,
   "metadata": {},
   "outputs": [
    {
     "output_type": "stream",
     "name": "stdout",
     "text": [
      "         Share      Day  ... med_dt_TV1_TV4  NbSecondWithAtLeatOneTrade\nIndex                    ...                                           \n1       Isin_8  Date_24  ...            NaN                           4\n2      Isin_87  Date_29  ...            NaN                          15\n3      Isin_87  Date_23  ...            NaN                          63\n4      Isin_12  Date_11  ...            NaN                           4\n5      Isin_87   Date_9  ...            NaN                          38\n\n[5 rows x 38 columns]\n"
     ]
    }
   ],
   "source": [
    "import pandas as pd\n",
    "\n",
    "x_train = pd.read_csv(\"data/AMF_train_X_XCZw8r3.csv\", index_col=0, sep=',')\n",
    "y_train = pd.read_csv(\"data/AMF_train_Y_omYQJZL.csv\", index_col=0, sep=',')\n",
    "\n",
    "print(x_train[:5])"
   ]
  },
  {
   "cell_type": "code",
   "execution_count": null,
   "metadata": {},
   "outputs": [],
   "source": []
  }
 ]
}